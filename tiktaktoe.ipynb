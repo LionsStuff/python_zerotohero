{
 "cells": [
  {
   "cell_type": "code",
   "execution_count": 2,
   "id": "0ea7212c",
   "metadata": {},
   "outputs": [],
   "source": [
    "# Board printed out every input"
   ]
  },
  {
   "cell_type": "code",
   "execution_count": 3,
   "id": "f1cd751f",
   "metadata": {},
   "outputs": [],
   "source": [
    "# Accept input and put symbol\n",
    "\n",
    "# Display\n",
    "\n",
    "# Check answers"
   ]
  },
  {
   "cell_type": "code",
   "execution_count": 50,
   "id": "b043ec22",
   "metadata": {
    "scrolled": true
   },
   "outputs": [
    {
     "ename": "IndentationError",
     "evalue": "unexpected indent (3175640817.py, line 58)",
     "output_type": "error",
     "traceback": [
      "\u001b[0;36m  File \u001b[0;32m\"/tmp/ipykernel_21465/3175640817.py\"\u001b[0;36m, line \u001b[0;32m58\u001b[0m\n\u001b[0;31m    print(str(scoreP1))\u001b[0m\n\u001b[0m    ^\u001b[0m\n\u001b[0;31mIndentationError\u001b[0m\u001b[0;31m:\u001b[0m unexpected indent\n"
     ]
    }
   ],
   "source": [
    "from IPython.display import clear_output\n",
    "\n",
    "valid_positions = range(10)\n",
    "winningPosition = [[7, 8, 9],[4, 5, 6],[1, 2, 3],[1, 4, 7],[2, 5, 8],[3, 6, 9],[3, 5, 7],[1, 5, 9]]\n",
    "\n",
    "player1Turn = True\n",
    "player1Pos =[]\n",
    "player2Pos =[]\n",
    "boardXO = [\" \", \" \",\" \",\" \",\" \",\" \",\" \",\" \",\" \",]\n",
    "\n",
    "# Display\n",
    "def playerDisplay():\n",
    "    print(f\" {boardXO[0]} | {boardXO[1]} | {boardXO[2]} \")\n",
    "    print(\"-----------\")\n",
    "    print(f\" {boardXO[3]} | {boardXO[4]} | {boardXO[5]} \")\n",
    "    print(\"-----------\")\n",
    "    print(f\" {boardXO[6]} | {boardXO[7]} | {boardXO[8]} \")\n",
    "\n",
    "# Player input\n",
    "def playerInput(player1Pos, player2Pos, valid_positions):\n",
    "    \n",
    "    ans = \"wrong\"\n",
    "    notValidPos = True\n",
    "    takenPos = player1Pos + player2Pos\n",
    "  \n",
    "    while ans.isdigit() == False or notValidPos:\n",
    "        ans = input(\"Select a position: \")\n",
    "        if (ans.isdigit()):\n",
    "            if int(ans)-1 in takenPos:\n",
    "                print(\"Sorry! Position already taken.\")\n",
    "            elif int(ans)-1 not in valid_positions:\n",
    "                print(\"Not a valid position.\")\n",
    "            elif (int(ans)-1 not in takenPos) and (int(ans)-1 in valid_positions):\n",
    "                notValidPos = False\n",
    "    \n",
    "    return (int(ans)-1)\n",
    "\n",
    "# Assign to corresponding player\n",
    "def playerInputAssign(player1Turn, player1Pos, player2Pos):\n",
    "    if player1Turn:\n",
    "        player1Pos.append(playerInput(player1Pos, player2Pos, valid_positions))\n",
    "    else:\n",
    "        player2Pos.append(playerInput(player1Pos, player2Pos, valid_positions))\n",
    "\n",
    "# Transform to Xs and Os\n",
    "def transformToXO(player1Pos, player2Pos, boardXO):\n",
    "    for i in player1Pos:\n",
    "        boardXO[i] = \"X\"\n",
    "    for i in player2Pos:\n",
    "        boardXO[i] = \"O\"\n",
    "        \n",
    "# Check if someone won\n",
    "def checkForWinner(player1Pos, player2Pos, winningPosition):\n",
    "    scoreP1 = 0\n",
    "    scoreP2 = 0\n",
    "    for i in winningPosition:\n",
    "        print(str(i))\n",
    "            print(str(scoreP1))\n",
    "        if i in player1Pos:\n",
    "            scoreP1 += 1\n",
    "        if i in player2Pos:\n",
    "            scoreP2 += 2\n",
    "    if scoreP1 >= 3:\n",
    "        print(\"Player 1 won!\")\n",
    "    elif scoreP2 >= 3:\n",
    "        print(\"Player 2 won!\")\n",
    "            \n",
    "\n",
    "# The game\n",
    "while True:\n",
    "    playerInputAssign(player1Turn, player1Pos, player2Pos)\n",
    "    transformToXO(player1Pos, player2Pos, boardXO)\n",
    "    checkForWinner(player1Pos, player2Pos, winningPosition)\n",
    "    # clear_output()\n",
    "    print(boardXO)\n",
    "    print(str(player1Pos))\n",
    "    player1Turn = not player1Turn\n"
   ]
  },
  {
   "cell_type": "code",
   "execution_count": null,
   "id": "9fe4e391",
   "metadata": {},
   "outputs": [],
   "source": []
  },
  {
   "cell_type": "code",
   "execution_count": null,
   "id": "2f299ca7",
   "metadata": {},
   "outputs": [],
   "source": []
  }
 ],
 "metadata": {
  "kernelspec": {
   "display_name": "Python 3 (ipykernel)",
   "language": "python",
   "name": "python3"
  },
  "language_info": {
   "codemirror_mode": {
    "name": "ipython",
    "version": 3
   },
   "file_extension": ".py",
   "mimetype": "text/x-python",
   "name": "python",
   "nbconvert_exporter": "python",
   "pygments_lexer": "ipython3",
   "version": "3.9.13"
  }
 },
 "nbformat": 4,
 "nbformat_minor": 5
}
